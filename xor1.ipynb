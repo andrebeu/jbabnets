{
 "cells": [
  {
   "cell_type": "code",
   "execution_count": 1,
   "id": "b97824d1",
   "metadata": {},
   "outputs": [],
   "source": [
    "import torch as tr"
   ]
  },
  {
   "cell_type": "code",
   "execution_count": 4,
   "id": "478b1178",
   "metadata": {},
   "outputs": [
    {
     "name": "stdout",
     "output_type": "stream",
     "text": [
      "Net(\n",
      "  (fc1): Linear(in_features=2, out_features=3, bias=True)\n",
      "  (fc2): Linear(in_features=3, out_features=3, bias=True)\n",
      "  (fc3): Linear(in_features=3, out_features=1, bias=True)\n",
      ")\n"
     ]
    }
   ],
   "source": [
    "import torch\n",
    "import torch.nn as nn\n",
    "\n",
    "class Net(nn.Module):\n",
    "\n",
    "  def __init__(self,n_hidden,indim=2,outdim=1):\n",
    "    super(Net, self).__init__()\n",
    "    self.fc1 = nn.Linear(indim,n_hidden)  \n",
    "    self.fc2 = nn.Linear(n_hidden,n_hidden)\n",
    "    self.fc3 = nn.Linear(n_hidden,outdim)\n",
    "\n",
    "  def forward(self, x):\n",
    "    h1 = self.fc1(x).relu()\n",
    "    h2 = self.fc2(h1).relu()\n",
    "    y_hat = self.fc3(h2)\n",
    "    return y_hat\n",
    "  \n",
    "net = Net(3)\n",
    "print(net)"
   ]
  },
  {
   "cell_type": "code",
   "execution_count": 13,
   "id": "3468ef00",
   "metadata": {},
   "outputs": [],
   "source": [
    "X_xor = tr.Tensor([[0,0],[1,1],[0,1],[1,0]])\n",
    "y_xor = tr.Tensor([[1],[1],[0],[0]])"
   ]
  },
  {
   "cell_type": "code",
   "execution_count": 19,
   "id": "52b629cf",
   "metadata": {},
   "outputs": [],
   "source": [
    "loss_op = nn.MSELoss()\n",
    "optim_op = tr.optim.SGD(net.parameters(), lr=0.01)"
   ]
  },
  {
   "cell_type": "code",
   "execution_count": 17,
   "id": "555f4d28",
   "metadata": {},
   "outputs": [],
   "source": [
    "L = []\n",
    "neps=10\n",
    "for ep in range(neps):\n",
    "  optim_op.zero_grad()\n",
    "  yh = net(X_xor)\n",
    "  loss_ep = loss_op(yh,y_xor)\n",
    "  loss_ep.backward()\n",
    "  optim_op.step()\n",
    "  L.append(loss_ep)\n"
   ]
  },
  {
   "cell_type": "code",
   "execution_count": 18,
   "id": "238f079d",
   "metadata": {},
   "outputs": [
    {
     "data": {
      "text/plain": [
       "[tensor(0.2531, grad_fn=<MseLossBackward0>),\n",
       " tensor(0.2525, grad_fn=<MseLossBackward0>),\n",
       " tensor(0.2519, grad_fn=<MseLossBackward0>),\n",
       " tensor(0.2513, grad_fn=<MseLossBackward0>),\n",
       " tensor(0.2507, grad_fn=<MseLossBackward0>),\n",
       " tensor(0.2502, grad_fn=<MseLossBackward0>),\n",
       " tensor(0.2497, grad_fn=<MseLossBackward0>),\n",
       " tensor(0.2492, grad_fn=<MseLossBackward0>),\n",
       " tensor(0.2487, grad_fn=<MseLossBackward0>),\n",
       " tensor(0.2483, grad_fn=<MseLossBackward0>)]"
      ]
     },
     "execution_count": 18,
     "metadata": {},
     "output_type": "execute_result"
    }
   ],
   "source": [
    "L"
   ]
  },
  {
   "cell_type": "code",
   "execution_count": null,
   "id": "23de7196",
   "metadata": {},
   "outputs": [],
   "source": []
  }
 ],
 "metadata": {
  "kernelspec": {
   "display_name": "Python 3",
   "language": "python",
   "name": "python3"
  },
  "language_info": {
   "codemirror_mode": {
    "name": "ipython",
    "version": 3
   },
   "file_extension": ".py",
   "mimetype": "text/x-python",
   "name": "python",
   "nbconvert_exporter": "python",
   "pygments_lexer": "ipython3",
   "version": "3.8.8"
  }
 },
 "nbformat": 4,
 "nbformat_minor": 5
}
