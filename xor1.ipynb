{
 "cells": [
  {
   "cell_type": "code",
   "execution_count": 1,
   "id": "b97824d1",
   "metadata": {},
   "outputs": [],
   "source": [
    "import torch as tr\n",
    "import torch.nn as nn\n",
    "import matplotlib.pyplot as plt\n",
    "import seaborn as sns\n",
    "sns.set_context(\"talk\")\n",
    "%matplotlib inline\n",
    "%load_ext autoreload\n",
    "%autoreload 2"
   ]
  },
  {
   "cell_type": "code",
   "execution_count": 2,
   "id": "478b1178",
   "metadata": {},
   "outputs": [
    {
     "name": "stdout",
     "output_type": "stream",
     "text": [
      "Net(\n",
      "  (fc1): Linear(in_features=2, out_features=3, bias=True)\n",
      "  (fc2): Linear(in_features=3, out_features=3, bias=True)\n",
      "  (fc3): Linear(in_features=3, out_features=1, bias=True)\n",
      ")\n"
     ]
    }
   ],
   "source": [
    "class Net(nn.Module):\n",
    "\n",
    "  def __init__(self,n_hidden,indim=2,outdim=1):\n",
    "    super(Net, self).__init__()\n",
    "    self.fc1 = nn.Linear(indim,n_hidden)  \n",
    "    self.fc2 = nn.Linear(n_hidden,n_hidden)\n",
    "    self.fc3 = nn.Linear(n_hidden,outdim)\n",
    "\n",
    "  def forward(self, x):\n",
    "    h1 = self.fc1(x).relu()\n",
    "    h2 = self.fc2(h1).relu()\n",
    "    y_hat = self.fc3(h2)\n",
    "    return y_hat\n",
    "  \n"
   ]
  },
  {
   "cell_type": "code",
   "execution_count": 3,
   "id": "d6f8daab",
   "metadata": {},
   "outputs": [],
   "source": [
    "X_xor = tr.Tensor([[0,0],[1,1],[0,1],[1,0]])\n",
    "y_xor = tr.Tensor([[1],[1],[0],[0]])"
   ]
  },
  {
   "cell_type": "code",
   "execution_count": 14,
   "id": "d98896a1",
   "metadata": {},
   "outputs": [
    {
     "data": {
      "text/plain": [
       "[<matplotlib.lines.Line2D at 0x7fc15079b7c0>]"
      ]
     },
     "execution_count": 14,
     "metadata": {},
     "output_type": "execute_result"
    },
    {
     "data": {
      "image/png": "[encoded data removed]",
      "text/plain": [
       "<Figure size 432x288 with 1 Axes>"
      ]
     },
     "metadata": {
      "needs_background": "light"
     },
     "output_type": "display_data"
    }
   ],
   "source": [
    "net = Net(3)\n",
    "\n",
    "loss_op = nn.MSELoss()\n",
    "optim_op = tr.optim.SGD(net.parameters(), lr=0.01)\n",
    "\n",
    "L = []\n",
    "neps=5000\n",
    "for ep in range(neps):\n",
    "  optim_op.zero_grad()\n",
    "  yh = net(X_xor)\n",
    "  loss_ep = loss_op(yh,y_xor)\n",
    "  loss_ep.backward()\n",
    "  optim_op.step()\n",
    "  L.append(loss_ep.detach().numpy())\n",
    "plt.plot(L)"
   ]
  }
 ],
 "metadata": {
  "kernelspec": {
   "display_name": "Python 3",
   "language": "python",
   "name": "python3"
  },
  "language_info": {
   "codemirror_mode": {
    "name": "ipython",
    "version": 3
   },
   "file_extension": ".py",
   "mimetype": "text/x-python",
   "name": "python",
   "nbconvert_exporter": "python",
   "pygments_lexer": "ipython3",
   "version": "3.8.8"
  }
 },
 "nbformat": 4,
 "nbformat_minor": 5
}
