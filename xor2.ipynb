{
 "cells": [
  {
   "cell_type": "markdown",
   "id": "84de18da",
   "metadata": {},
   "source": [
    "# https://pytorch.org/docs/stable/nn.html#loss-functions"
   ]
  },
  {
   "cell_type": "code",
   "execution_count": 1,
   "id": "b97824d1",
   "metadata": {},
   "outputs": [],
   "source": [
    "import torch as tr\n",
    "import torch.nn as nn\n",
    "import matplotlib.pyplot as plt\n",
    "import seaborn as sns\n",
    "sns.set_context(\"talk\")\n",
    "%matplotlib inline\n",
    "%load_ext autoreload\n",
    "%autoreload 2"
   ]
  },
  {
   "cell_type": "code",
   "execution_count": 2,
   "id": "478b1178",
   "metadata": {},
   "outputs": [],
   "source": [
    "from utils1 import *\n",
    "net = Net(3)\n",
    "loss_op,optim_op = net.get_ops()"
   ]
  },
  {
   "cell_type": "code",
   "execution_count": 3,
   "id": "c86bc49b",
   "metadata": {},
   "outputs": [],
   "source": [
    "X_xor = tr.Tensor([[0,0],[1,1],[0,1],[1,0]])\n",
    "y_xor = tr.Tensor([[1],[1],[0],[0]])"
   ]
  },
  {
   "cell_type": "code",
   "execution_count": 4,
   "id": "1fd0fe7f",
   "metadata": {},
   "outputs": [
    {
     "data": {
      "text/plain": [
       "[<matplotlib.lines.Line2D at 0x7fc454071e80>]"
      ]
     },
     "execution_count": 4,
     "metadata": {},
     "output_type": "execute_result"
    },
    {
     "data": {
      "image/png": "[encoded data removed]",
      "text/plain": [
       "<Figure size 432x288 with 1 Axes>"
      ]
     },
     "metadata": {
      "needs_background": "light"
     },
     "output_type": "display_data"
    }
   ],
   "source": [
    "L = []\n",
    "neps=10000\n",
    "for ep in range(neps):\n",
    "  optim_op.zero_grad()\n",
    "  yh = net(X_xor)\n",
    "  loss_ep = loss_op(yh,y_xor)\n",
    "  loss_ep.backward()\n",
    "  optim_op.step()\n",
    "  L.append(loss_ep.detach().numpy())\n",
    "plt.plot(L)"
   ]
  },
  {
   "cell_type": "code",
   "execution_count": null,
   "id": "b02d15f8",
   "metadata": {},
   "outputs": [],
   "source": []
  },
  {
   "cell_type": "code",
   "execution_count": null,
   "id": "233713ab",
   "metadata": {},
   "outputs": [],
   "source": []
  }
 ],
 "metadata": {
  "kernelspec": {
   "display_name": "Python 3",
   "language": "python",
   "name": "python3"
  },
  "language_info": {
   "codemirror_mode": {
    "name": "ipython",
    "version": 3
   },
   "file_extension": ".py",
   "mimetype": "text/x-python",
   "name": "python",
   "nbconvert_exporter": "python",
   "pygments_lexer": "ipython3",
   "version": "3.8.8"
  }
 },
 "nbformat": 4,
 "nbformat_minor": 5
}
